{
 "cells": [
  {
   "cell_type": "code",
   "execution_count": 1,
   "metadata": {},
   "outputs": [],
   "source": [
    "from utils.storage_class import S3Wrapper\n",
    "\n",
    "# Example usage\n",
    "s3 = S3Wrapper()\n"
   ]
  },
  {
   "cell_type": "code",
   "execution_count": 3,
   "metadata": {},
   "outputs": [
    {
     "name": "stdout",
     "output_type": "stream",
     "text": [
      "File downloaded_data/frontpage_20231217.html uploaded to rearc-datalake-bucket/landingzone/\n"
     ]
    }
   ],
   "source": [
    "file_loc = \"downloaded_data/frontpage_20231217.html\"\n",
    "#upload to s3 \n",
    "s3.upload_file(file_loc,\"landingzone/\")"
   ]
  },
  {
   "cell_type": "code",
   "execution_count": 1,
   "metadata": {},
   "outputs": [],
   "source": [
    "from utils.data_fetcher import BLSDataFetcher"
   ]
  },
  {
   "cell_type": "code",
   "execution_count": 2,
   "metadata": {},
   "outputs": [],
   "source": [
    "# # Example usage\n",
    "# bls_fetcher = BLSDataFetcher(\"https://download.bls.gov/pub/time.series/pr/\")\n",
    "# file_path = bls_fetcher.download_front_page()\n",
    "# data_links = bls_fetcher.parse_front_page(file_path)\n",
    "# print(data_links)\n",
    "bls_fetcher = BLSDataFetcher(\"https://download.bls.gov/pub/time.series/pr/\")\n",
    "html_content = bls_fetcher.download_front_page()"
   ]
  },
  {
   "cell_type": "code",
   "execution_count": 3,
   "metadata": {},
   "outputs": [
    {
     "name": "stdout",
     "output_type": "stream",
     "text": [
      "('<html>\\r\\n'\n",
      " '<head>\\r\\n'\n",
      " '<!-- P2 -->\\r\\n'\n",
      " '<title>download.bls.gov - '\n",
      " '/pub/time.series/pr/</title></head><body><H1>download.bls.gov - '\n",
      " '/pub/time.series/pr/</H1><hr>\\r\\n'\n",
      " '\\r\\n'\n",
      " '<pre><A HREF=\"/pub/time.series/\">[To Parent Directory]</A><br><br> '\n",
      " '12/6/2023  8:30 AM          102 <A '\n",
      " 'HREF=\"/pub/time.series/pr/pr.class\">pr.class</A><br> 9/13/2022  3:52 '\n",
      " 'PM          562 <A '\n",
      " 'HREF=\"/pub/time.series/pr/pr.contacts\">pr.contacts</A><br> 12/6/2023  8:30 '\n",
      " 'AM      1477682 <A '\n",
      " 'HREF=\"/pub/time.series/pr/pr.data.0.Current\">pr.data.0.Current</A><br> '\n",
      " '12/6/2023  8:30 AM      3101899 <A '\n",
      " 'HREF=\"/pub/time.series/pr/pr.data.1.AllData\">pr.data.1.AllData</A><br> '\n",
      " '12/6/2023  8:30 AM          176 <A '\n",
      " 'HREF=\"/pub/time.series/pr/pr.duration\">pr.duration</A><br> 12/6/2023  8:30 '\n",
      " 'AM           40 <A '\n",
      " 'HREF=\"/pub/time.series/pr/pr.footnote\">pr.footnote</A><br> 12/6/2023  8:30 '\n",
      " 'AM          745 <A HREF=\"/pub/time.series/pr/pr.measure\">pr.measure</A><br>  '\n",
      " '1/7/1994  2:53 PM          146 <A '\n",
      " 'HREF=\"/pub/time.series/pr/pr.period\">pr.period</A><br>11/18/2011  3:05 '\n",
      " 'PM           79 <A '\n",
      " 'HREF=\"/pub/time.series/pr/pr.seasonal\">pr.seasonal</A><br> 12/6/2023  8:30 '\n",
      " 'AM          263 <A HREF=\"/pub/time.series/pr/pr.sector\">pr.sector</A><br> '\n",
      " '12/6/2023  8:30 AM        15657 <A '\n",
      " 'HREF=\"/pub/time.series/pr/pr.series\">pr.series</A><br>11/17/2011  4:11 '\n",
      " 'PM        18343 <A '\n",
      " 'HREF=\"/pub/time.series/pr/pr.txt\">pr.txt</A><br></pre><hr></body></html>')\n"
     ]
    }
   ],
   "source": [
    "import pprint\n",
    "pprint.pprint(html_content)"
   ]
  },
  {
   "cell_type": "code",
   "execution_count": 11,
   "metadata": {},
   "outputs": [],
   "source": [
    "from bs4 import BeautifulSoup\n",
    "import re\n",
    "\n",
    "# def parse_html_to_table(html_content):\n",
    "#     soup = BeautifulSoup(html_content, 'html.parser')\n",
    "#     pre_content = soup.find('pre')\n",
    "#     if not pre_content:\n",
    "#         return []\n",
    "\n",
    "#     # Adjusted regular expression pattern\n",
    "#     file_info_pattern = re.compile(r'(\\d{1,2}/\\d{1,2}/\\d{4})\\s+(\\d{1,2}:\\d{2} [APM]{2})\\s+([\\d,]+)\\s+<A HREF=\"(/pub/time.series/pr/[^\\\"]+)\">(.*?)</A>')\n",
    "\n",
    "#     data_table = []\n",
    "#     lines = pre_content.get_text().split('\\n')\n",
    "#     for line in lines:\n",
    "#         match = file_info_pattern.search(line)\n",
    "#         if match:\n",
    "#             data_table.append({\n",
    "#                 'date': match.group(1),\n",
    "#                 'time': match.group(2),\n",
    "#                 'size': match.group(3),\n",
    "#                 'href': 'https://download.bls.gov' + match.group(4),\n",
    "#                 'file_name': match.group(5)\n",
    "#             })\n",
    "    \n",
    "#     return data_table"
   ]
  },
  {
   "cell_type": "code",
   "execution_count": 22,
   "metadata": {},
   "outputs": [],
   "source": [
    "def parse_html_to_table(html_content):\n",
    "    soup = BeautifulSoup(html_content, 'html.parser')\n",
    "    pre_content = soup.find('pre')\n",
    "    if not pre_content:\n",
    "        return []\n",
    "\n",
    "    data_table = []\n",
    "\n",
    "    # Iterate line by line in the <pre> content\n",
    "    lines = pre_content.get_text().split('\\n')\n",
    "    for line in lines:\n",
    "        parts = line.split()  # Split the line by whitespace\n",
    "        if len(parts) >= 6:\n",
    "            date = parts[0]\n",
    "            time = parts[1] + ' ' + parts[2]\n",
    "            size = parts[3]\n",
    "            href = 'https://download.bls.gov' + parts[5]\n",
    "            file_name = parts[6]\n",
    "\n",
    "            data_table.append({\n",
    "                'date': date,\n",
    "                'time': time,\n",
    "                'size': size,\n",
    "                'href': href,\n",
    "                'file_name': file_name\n",
    "            })\n",
    "\n",
    "    return data_table"
   ]
  },
  {
   "cell_type": "code",
   "execution_count": 23,
   "metadata": {},
   "outputs": [
    {
     "name": "stdout",
     "output_type": "stream",
     "text": [
      "{'date': '[To', 'time': 'Parent Directory]', 'size': '12/6/2023', 'href': 'https://download.bls.govAM', 'file_name': '102'}\n"
     ]
    }
   ],
   "source": [
    "data_table = parse_html_to_table(html_content)\n",
    "for row in data_table:\n",
    "    print(row)"
   ]
  },
  {
   "cell_type": "code",
   "execution_count": 13,
   "metadata": {},
   "outputs": [
    {
     "name": "stdout",
     "output_type": "stream",
     "text": [
      "[]\n"
     ]
    }
   ],
   "source": []
  },
  {
   "cell_type": "code",
   "execution_count": null,
   "metadata": {},
   "outputs": [],
   "source": []
  }
 ],
 "metadata": {
  "kernelspec": {
   "display_name": "rearc-env",
   "language": "python",
   "name": "python3"
  },
  "language_info": {
   "codemirror_mode": {
    "name": "ipython",
    "version": 3
   },
   "file_extension": ".py",
   "mimetype": "text/x-python",
   "name": "python",
   "nbconvert_exporter": "python",
   "pygments_lexer": "ipython3",
   "version": "3.12.0"
  }
 },
 "nbformat": 4,
 "nbformat_minor": 2
}
